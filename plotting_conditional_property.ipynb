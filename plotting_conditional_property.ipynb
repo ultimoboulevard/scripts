{
 "metadata": {
  "language_info": {
   "codemirror_mode": {
    "name": "ipython",
    "version": 3
   },
   "file_extension": ".py",
   "mimetype": "text/x-python",
   "name": "python",
   "nbconvert_exporter": "python",
   "pygments_lexer": "ipython3",
   "version": "3.9.1-final"
  },
  "orig_nbformat": 2,
  "kernelspec": {
   "name": "python3",
   "display_name": "Python 3.9.1 64-bit ('flamingo': conda)",
   "metadata": {
    "interpreter": {
     "hash": "c2a7d4605e1abf3547c4c021f4ac2f7a7178059deb9f5a5d3593cc920a76b0e9"
    }
   }
  }
 },
 "nbformat": 4,
 "nbformat_minor": 2,
 "cells": [
  {
   "cell_type": "code",
   "execution_count": 21,
   "metadata": {},
   "outputs": [],
   "source": [
    "import pandas as pd\n",
    "import numpy as np\n",
    "import matplotlib.pyplot as plt\n",
    "df = pd.read_csv('carboxilates_fastsigma.csv', header=[0, 1], index_col=0)\n",
    "df.columns = pd.MultiIndex.from_tuples(\n",
    "    [(i, (j if j != \"nan\" else None)) for i, j in df.columns],\n",
    "    names=df.columns.names,\n",
    "    )\n",
    "vol=df[\"Volume\"]\n",
    "vol_neg=(vol[vol<0])\n",
    "vol_pos=(vol[vol>0])\n",
    "plt.hist(vol[vol>0], bins=100, histtype='step', log=True, label=\"Volume\", range=(0, 10000))"
   ]
  },
  {
   "cell_type": "code",
   "execution_count": null,
   "metadata": {},
   "outputs": [],
   "source": []
  }
 ]
}